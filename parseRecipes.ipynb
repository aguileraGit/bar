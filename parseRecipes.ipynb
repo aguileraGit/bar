{
 "cells": [
  {
   "cell_type": "code",
   "execution_count": 1,
   "metadata": {},
   "outputs": [],
   "source": [
    "import os\n",
    "import shutil\n",
    "from base64 import b64encode\n",
    "from http.client import HTTPSConnection\n",
    "import yaml\n",
    "import requests\n",
    "import pandas as pd\n",
    "import os\n",
    "import re\n",
    "import gensim.models\n",
    "import copy\n",
    "import numpy as np\n",
    "import operator\n",
    "import json\n",
    "import math"
   ]
  },
  {
   "cell_type": "code",
   "execution_count": 2,
   "metadata": {},
   "outputs": [
    {
     "name": "stdout",
     "output_type": "stream",
     "text": [
      "Brute force - read .bashrc and get user/pass\n"
     ]
    }
   ],
   "source": [
    "'''\n",
    "Orginally I wanted to save the user/pass as an enviromental variable. However, since\n",
    "jupyterlab is called as a service, it doesn't load .bashrc therefore, it's not\n",
    "possible to call enviro values while running in juypterlab. However, the end goal\n",
    "is to run this script outside of jupyter to gather recipes and push to github. \n",
    "So getting vars from .bashrc should work. \n",
    "'''\n",
    "\n",
    "#Try to get from enviro var. Need to check if this works when ran outside jupyter\n",
    "email = os.environ.get('PAPRIKAAPPEMAIL')\n",
    "password = os.environ.get('PAPRIKAAPPPASSWORD')\n",
    "\n",
    "#If email or password wasn't found, read bashrc directly and find the vars\n",
    "if email == None or password == None:\n",
    "    print('Brute force - read .bashrc and get user/pass')\n",
    "    f = open(\"/home/pi/.bashrc\", \"r\")\n",
    "    lines = f.readlines()\n",
    "\n",
    "    for line in lines:\n",
    "        matchEmail = re.match( r'(export PAPRIKAAPPEMAIL=)(.*)', line, re.MULTILINE)\n",
    "        if matchEmail:\n",
    "            email = matchEmail.group(2)\n",
    "\n",
    "        matchPassword = re.match( r'(export PAPRIKAAPPPASSWORD=)(.*)', line, re.MULTILINE)\n",
    "        if matchPassword:\n",
    "            password = matchPassword.group(2)\n",
    "\n",
    "\n",
    "c = HTTPSConnection(\"www.paprikaapp.com\")\n",
    "userAndPass = b64encode(bytes(email+\":\"+password, 'utf-8')).decode(\"ascii\")\n",
    "headers = { 'Authorization' : 'Basic %s' %  userAndPass }\n",
    "\n",
    "c.request('GET', '/api/v1/sync/categories/', headers=headers)\n",
    "res = c.getresponse()\n",
    "data = res.read()\n",
    "categories = {}\n",
    "for item in json.loads(data)['result']:\n",
    "    categories[item['uid']] = item['name']\n",
    "\n",
    "c.request('GET', '/api/v1/sync/recipes/', headers=headers)\n",
    "res = c.getresponse()\n",
    "data = res.read()\n",
    "#print(data)\n",
    "\n",
    "df = pd.DataFrame()\n",
    "\n",
    "recipes = []\n",
    "for item in json.loads(data)['result']:\n",
    "    c.request('GET', '/api/v1/sync/recipe/'+item['uid']+'/', headers=headers)\n",
    "    res = c.getresponse()\n",
    "    data = res.read()\n",
    "    recipe = json.loads(data)['result']\n",
    "    \n",
    "    #Check to see if it's in the Drinks catergory\n",
    "    if 'F59B5D0D-9C8A-41FD-8134-F26921D1B19A-18063-0000098A8D94DC39' in recipe['categories']:\n",
    "        #print(recipe)\n",
    "        \n",
    "        df = df.append(recipe, ignore_index=True)\n"
   ]
  },
  {
   "cell_type": "code",
   "execution_count": 3,
   "metadata": {},
   "outputs": [
    {
     "data": {
      "text/plain": [
       "categories           object\n",
       "cook_time            object\n",
       "created              object\n",
       "description          object\n",
       "difficulty           object\n",
       "directions           object\n",
       "hash                 object\n",
       "image_url            object\n",
       "in_trash            float64\n",
       "ingredients          object\n",
       "is_pinned           float64\n",
       "name                 object\n",
       "notes                object\n",
       "nutritional_info     object\n",
       "on_favorites        float64\n",
       "on_grocery_list      object\n",
       "photo                object\n",
       "photo_hash           object\n",
       "photo_large          object\n",
       "photo_url            object\n",
       "prep_time            object\n",
       "rating              float64\n",
       "scale                object\n",
       "servings             object\n",
       "source               object\n",
       "source_url           object\n",
       "total_time           object\n",
       "uid                  object\n",
       "dtype: object"
      ]
     },
     "execution_count": 3,
     "metadata": {},
     "output_type": "execute_result"
    }
   ],
   "source": [
    "df.dtypes"
   ]
  },
  {
   "cell_type": "code",
   "execution_count": 4,
   "metadata": {},
   "outputs": [
    {
     "name": "stderr",
     "output_type": "stream",
     "text": [
      "/home/pi/.local/lib/python3.7/site-packages/pandas/core/strings.py:1954: UserWarning: This pattern has match groups. To actually get the groups, use str.extract.\n",
      "  return func(self, *args, **kwargs)\n"
     ]
    },
    {
     "data": {
      "text/plain": [
       "3     2 ounces gin\\n3/4 ounce sweet vermouth\\n3/4 ou...\n",
       "4     1 1/2 ounces (45ml) bourbon\\n2 ounces (60ml) d...\n",
       "6       2 oz gin\\n1 Oz orgeat\\n.75 lemon juice\\nBitters\n",
       "13    4 oz. Ginger Beer\\n1½ oz. Bourbon\\n½ oz. Black...\n",
       "23    .25 oz freshly squeezed lemon juice\\n3-4 mint ...\n",
       "28    1 1/2 ounces (45ml) Cynar\\n1 1/2 ounces (45ml)...\n",
       "31    2 oz gin\\n1 tablespoons honey\\n2 tablespoons f...\n",
       "32    ice\\n1 ounce gin (Tanqueray or Beefeater recom...\n",
       "33    Small handful of blackberries\\nMint\\n1-1.5 oz ...\n",
       "34    12 blackberries\\n20 fresh mint leaves\\n2 Meyer...\n",
       "36    2 oz pear infused vodka, recipe below\\n1/2 oz ...\n",
       "38    1.5 oz. NOLET’S Silver Gin\\n1 oz. Fresh Lime J...\n",
       "41    1 lemon\\n3 tablespoons (1 1/2 ounces) gin\\n1 1...\n",
       "42    1.5 oz. NOLET’S Silver Gin\\n1 oz. Lemon Juice\\...\n",
       "44    2 ounces gin\\n1/2 ounce lemon juice\\n1/2 ounce...\n",
       "46    2 ounces London dry gin\\n3/4 ounces triple sec...\n",
       "47    Adapted from Bon Appetit\\nFor 2 tall drinks\\n1...\n",
       "51    3 mint springs\\n1 and ½ ounce gin\\n1/2 ounce s...\n",
       "52    Rosemary Syrup\\n1/2 cup (125ml) water\\n1/2 cup...\n",
       "58    1.5 oz Barr Hill Gin\\n0.5 oz Amaro Montenegro\\...\n",
       "Name: ingredients, dtype: object"
      ]
     },
     "execution_count": 4,
     "metadata": {},
     "output_type": "execute_result"
    }
   ],
   "source": [
    "import re\n",
    "df[ (df['ingredients'].str.contains(r'(gin)', flags=re.IGNORECASE)) & (df['ingredients'].str.contains(r'(lemon|lime)', flags=re.IGNORECASE))  ]['ingredients']"
   ]
  },
  {
   "cell_type": "code",
   "execution_count": 5,
   "metadata": {},
   "outputs": [],
   "source": [
    "#Export all recipes\n",
    "jsonRecipeExport = df.to_json(orient=\"index\")\n",
    "\n",
    "with open('recipes.json', 'w') as outfile:\n",
    "    outfile.write(jsonRecipeExport)"
   ]
  },
  {
   "cell_type": "code",
   "execution_count": 6,
   "metadata": {},
   "outputs": [],
   "source": [
    "#By default, ingredients are seperated by \\n. Replace with space\n",
    "#df['ingredients'] = df['ingredients'].str.replace('\\n', '-')\n",
    "\n",
    "#Need to clean up ingredients\n",
    "listOfIngredients = df['ingredients'].tolist()"
   ]
  },
  {
   "cell_type": "code",
   "execution_count": 7,
   "metadata": {},
   "outputs": [],
   "source": [
    "#Returns regex line \\b<term1>\\b|\\b<terms2>...\n",
    "def regexOrList(listOfTerms):\n",
    "    returnStr = ''\n",
    "    for term in listOfTerms:\n",
    "        tempTerm = '\\\\b' + term + '\\\\b' + '|'\n",
    "        returnStr = returnStr + tempTerm\n",
    "        \n",
    "    #Remove last |\n",
    "    returnStr = returnStr[:-1]\n",
    "    \n",
    "    return returnStr"
   ]
  },
  {
   "cell_type": "code",
   "execution_count": 8,
   "metadata": {},
   "outputs": [
    {
     "name": "stdout",
     "output_type": "stream",
     "text": [
      "['bourbon rye whiskey', 'Cointreau orange liqueur', 'sweet vermouth', 'squeezed lemon juice', 'maraschino liqueur', 'grapefruit juice', 'lime juice', 'simple syrup', 'grapefruit juice', 'lemon juice', 'Campari', 'simple syrup gin', 'sweet vermouth', 'dry vermouth', 'orange bitters bourbon', 'dry hard cider', 'ginger beer', 'Angostura bitters', 'Fresh lemon juice', 'Simple syrup', 'Huckleberry Shrub', 'Egg white', 'Huckleberries', 'Cider vinegar', 'Sugar gin', 'orgeat', 'lemon juice', 'Bitters bourbon', 'Averna amaro', 'Punt e Mes vermouth', 'Kahlua Coffee Liqueur', 'fresh grapefruit juice', 'fresh lime juice', 'Cholula hot sauce', 'Flaky salt white rum', 'orange curaçao', 'lime juice squeezed', 'orgeat', 'dark rum', 'lime wheel', 'Campari', 'Lemon Juice', 'Orange Juice', 'Espresso', 'Dulce de Leche', 'pineapple juice', 'vodka', 'grenadine Ginger Beer', 'Bourbon', 'Blackberry Cordial', 'Lime Juice', 'cherry liqueur', 'honey syrup CARAMELIZED HONEY', 'handful fresh thyme', 'water', 'honey', 'SINGLE COCKTAIL', 'honey syrup', 'lemon juice squeezed', 'tequila', 'sparkling wine', 'PITCHER', 'honey syrup', 'lemon juice squeezed', 'tequila', 'fresh orange juice', 'Aperol amaro', 'grapefruit juice', 'seltzer', 'simple syrup taste limes', 'caster sugar', 'pisco', 'Aperol', 'Amaro Nonino', 'honey real maple syrup', 'vanilla extract', 'ground nutmeg', 'cold coffee espresso', 'dark rum Kahlúa', 'cinnamon sugar rimming Pisco', 'Aperol', 'Fresh Lemon Juice', 'Simple Syrup', 'Egg White', 'Campari', 'Demerara syrup', 'Fresh pineapple juice', 'Fresh lime juice', 'mint leaves', 'Pisco', 'blackberries', 'St Germain Elderflower Liqueur', 'amaro', 'strong coldbrew coffee', 'simple syrup', 'Club soda', 'Large Marshmallows', 'Nutella', 'Marshmallow NutellaInfused Scotch', 'Snap Cordial liquer', 'Blackstrap Rum', 'Xocolatl Mole Bitters bourbon', 'grapefruit juice', 'honey syrup', 'Grapefruit peel', 'Shaker', 'Cocktail strainer', 'Mesh strainer', 'Jigger', 'Peeler', 'Pairing knife', 'Fruit juicer', 'Funnel', 'grapefruit wedge', 'fresh grapefruit juice', 'fresh lime juice', 'sugar', 'mescal tequila', 'club soda Cynar', 'Montenegro', 'fresh juice limes', 'ginger beer taste', 'Lime wheel two Chai', 'half half', 'water', 'Turbinado sugar', 'dry vermouth', 'maraschino liqueur', 'honey', 'fresh lime juice', 'gin', 'fresh lime juice', 'Benedictine', 'chilled club soda', 'Angostura bitters', 'Mint', 'vodka', 'fresh lime juice', 'Ginger beer blackberries', 'fresh mint leaves', 'simple syrup', 'high quality gin', 'tonic water', 'Casamigos Reposado Tequila', 'fresh lemon juice', 'fresh pink grapefruit juice', 'agave nectar', 'ginger syrup recipe below', 'lemon juice', 'Ginger beer', 'slice pear candied ginger', 'vodka', 'cardamon pods', 'cloves', 'cinnamon stick', 'granulated sugar', 'grapefruit juice', 'seltzer', 'Fresh Lime Juice', 'Raspberry Syrup', 'Ginger Beer top', 'Fresh Raspberries rye whiskey', 'lemon juice', 'blackberry jam', 'pinch salt Gin', 'Aperol/red aperitivo', 'Vermouth sweet aged', 'Amaro Averna lemon', 'gin', 'fresh lemon juice', 'simple syrup', 'Lemon Juice', 'Fruit Jam Fruit Preserves', \"Citrus Zest Amaro Dell'Erborista\", 'prosecco', 'Grapefruit twist gin', 'lemon juice', 'lime juice', 'simple syrup', 'drops orange flower water', 'cream', 'egg white', 'club soda milk', 'sugar', 'cinnamon sticks', 'whole cloves', 'strong brewed coffee', 'pisco aguardiente grappa brandy', 'squeezed lime juice', 'simple syrup', 'aromatic bitters', 'fresh blackberries', 'sugar', 'gin', 'fresh lime juice', 'Club soda', 'sweet vermouth', 'Fernet Branca', 'orange bitters', 'orange twist bourbon', 'T maple syrup', 'chocolate bitters', 'orange bitters Bitter Bird', 'Bulleit Bourbon', 'Campari', \"Owl's Brew CocoLada\", 'Luxardo Maraschino Liqueur', 'Angosturra bitters', 'Absinthe mint springs', 'gin', 'simple syrup', 'fresh lime juice', 'club soda Rosemary Syrup', 'water', 'sugar', 'Rosemary Gimlet', 'gin', 'fresh lime juice', 'fl St Germain', 'fl Aperol', 'grapefruit bitters', 'fresh grapefruit juice', 'fresh lime juice', 'Cholula hot sauce', 'Flaky salt gin', 'StGermain', 'grapefruit juice squeezed', 'grapefruit wedge pomegranate juice', 'ruby port', 'orange bitters', 'sparkling wine', 'Amaro Montenegro', 'Fresh Lemon Juice', 'Raw Honey Syrup', 'grapefruit juice', 'pomegranate juice', 'honey sugar agave', 'white tequila', 'mediumsized', 'club soda seltzer', 'pomegranate arils']\n"
     ]
    }
   ],
   "source": [
    "#'Flatten list to string'\n",
    "ingredientList = ' '\n",
    "ingredientList = ingredientList.join(listOfIngredients)\n",
    "\n",
    "#I believe the last item per recipe doesn't have a \\n, so \n",
    "# it ends up with WordAWordB. Need to fix\n",
    "ingredientList = ingredientList.split('\\n')\n",
    "\n",
    "cleanedIngredientsList = []\n",
    "\n",
    "for _line in ingredientList:\n",
    "    #print(_line)\n",
    "    \n",
    "    #Clean out numbers\n",
    "    regexNumbers = re.compile(r'(\\d/\\d)|(\\d)|(\\.\\d*)|(¾)|(½)|(¼)', re.IGNORECASE)\n",
    "    _line = re.sub(regexNumbers, '', _line)\n",
    "    \n",
    "    #Clean out measurements\n",
    "    measurementsList = ['ounce', 'ounces', 'oz', 'oz.', 'ml', 'mL', 'g', 'gram', 'grams', 'tablespoon', 'tablespoons',\n",
    "                       'tsp', 'tbsp', 'teaspoon', 'teaspoons', 'part', 'parts', 'cup', 'cups', 'barspoons']\n",
    "    regexMeasurements = re.compile(regexOrList(measurementsList), re.IGNORECASE)\n",
    "    _line = re.sub(regexMeasurements, '', _line)\n",
    "    \n",
    "    \n",
    "    #Single words or characters - Ignore case\n",
    "    singleWordList = ['freshly', 'garnish', 'glass', 'glasses', 'and', 'few', 'about', 'dash', 'dashes',\n",
    "                      'or', 'ice', 'cube', 'your', 'favorite', 'other', 'good-quality', 'optional', 'to', 'from',\n",
    "                      'the', 'for', 'with', 'a', 'coup', 'Coupe', 'cubes', 'tall', 'drinks']\n",
    "    regexSingleWords = re.compile(regexOrList(singleWordList), re.IGNORECASE)\n",
    "    _line = re.sub(regexSingleWords, '', _line)\n",
    "\n",
    "    #Anything in quotes\n",
    "    regexQuotes = re.compile(r'\\(.*\\)', re.IGNORECASE)\n",
    "    _line = re.sub(regexQuotes, '', _line)\n",
    "\n",
    "    #Remove special characters\n",
    "    regexSpecialChars = re.compile(r'\\:|,|\\*|-|\\(|\\)|&|\\*|\\%', re.IGNORECASE)\n",
    "    _line = re.sub(regexSpecialChars, '', _line)\n",
    "    \n",
    "    #Remove \\r \\n\n",
    "    _line = _line.strip()\n",
    "    \n",
    "    #Remove any extra spaces\n",
    "    _line = re.sub(\"\\s\\s+\", \" \", _line)\n",
    "    \n",
    "    #Remove lines that are too short or empty\n",
    "    if len(_line) < 2:\n",
    "        pass\n",
    "    elif _line.count(' ') > 3:\n",
    "        pass\n",
    "    else:\n",
    "        #print(_line)\n",
    "        cleanedIngredientsList.append(_line)\n",
    "        pass\n",
    "\n",
    "        \n",
    "print(cleanedIngredientsList)"
   ]
  },
  {
   "cell_type": "code",
   "execution_count": 9,
   "metadata": {},
   "outputs": [
    {
     "name": "stdout",
     "output_type": "stream",
     "text": [
      "set()\n"
     ]
    }
   ],
   "source": [
    "#Need to check for duplicates\n",
    "duplicates = set([x for x in cleanedIngredientsList if cleanedIngredientsList.count(cleanedIngredientsList) > 1])\n",
    "print(duplicates)"
   ]
  },
  {
   "cell_type": "code",
   "execution_count": 10,
   "metadata": {},
   "outputs": [],
   "source": [
    "class categorizeObj():\n",
    "    def __init__(self, model):\n",
    "        #List of totals. Always append to list\n",
    "        self.categoriesList = { \n",
    "            'alcohol' : [],\n",
    "            'liqueur' : [],\n",
    "            'fruit' : [],\n",
    "            'savory' : [],\n",
    "            'herb' : [],\n",
    "            'sweeteners' : []\n",
    "        }\n",
    "        \n",
    "        #Duplicate dict to store totals - Need to set default to 'unknown' category\n",
    "        self.categoriesTotals = copy.deepcopy(self.categoriesList)\n",
    "        for k, v in self.categoriesTotals.items():\n",
    "            self.categoriesTotals[k] = 'unknown'\n",
    "        \n",
    "        self.model = model\n",
    "        \n",
    "        \n",
    "    #Find similarity and add to total as list!\n",
    "    def processWord(self, word):\n",
    "        \n",
    "        #Verify Word is in model\n",
    "        word_vectors = model.wv\n",
    "        if word in word_vectors.vocab:\n",
    "            #print('Word Found: ', word)\n",
    "            #Loop through dict and add to dictionary\n",
    "            for key, value in self.categoriesList.items():\n",
    "                self.categoriesList[key].append( model.wv.similarity(key, word) )\n",
    "        else:\n",
    "            #print(word, 'not found!')\n",
    "            pass\n",
    "    \n",
    "    \n",
    "    def processList(self, listOfWords):\n",
    "        for word in listOfWords:\n",
    "            self.processWord(word)\n",
    "    \n",
    "    \n",
    "    #Chrunch the numbers\n",
    "    def categorizeSentence(self, mathType='average'):\n",
    "        if mathType == 'average':\n",
    "            for key, values in self.categoriesList.items():\n",
    "                #print(key, values)\n",
    "                self.categoriesTotals[key] = np.average( values )\n",
    "                \n",
    "        elif mathType == 'median':\n",
    "            for key, values in self.categoriesList.items():\n",
    "                self.categoriesTotals[key] = np.median( values )\n",
    "                \n",
    "        elif mathType == 'max':\n",
    "            for key, values in self.categoriesList.items():\n",
    "                self.categoriesTotals[key] = np.max( values )\n",
    "        else:\n",
    "            print('Selection not valid')\n",
    "    \n",
    "    \n",
    "    #This function really shows how bad the NN is. Unsure of the reason.\n",
    "    def categorize(self):\n",
    "        #Duplicate to make manual modification\n",
    "        categoriesTotalsModified = copy.deepcopy(self.categoriesTotals)\n",
    "        \n",
    "        #Combine Spices & Herbs into single category and compare against others\n",
    "        categoriesTotalsModified['spices_and_herbs'] = (categoriesTotalsModified['savory'] + categoriesTotalsModified['herb'])/2.0\n",
    "        del categoriesTotalsModified['savory']\n",
    "        del categoriesTotalsModified['herb']\n",
    "           \n",
    "        #Spices and Herbs still throws off everything. Artifically adjust by lowering the score\n",
    "        categoriesTotalsModified['alcohol'] = categoriesTotalsModified['alcohol'] * 0.85\n",
    "        categoriesTotalsModified['liqueur'] = categoriesTotalsModified['liqueur'] * 0.92\n",
    "        categoriesTotalsModified['fruit'] = categoriesTotalsModified['fruit'] * 0.85\n",
    "        categoriesTotalsModified['spices_and_herbs'] = categoriesTotalsModified['spices_and_herbs'] * 0.6\n",
    "        categoriesTotalsModified['sweeteners'] = categoriesTotalsModified['sweeteners'] * 0.8\n",
    "\n",
    "        #print(categoriesTotalsModified)\n",
    "        \n",
    "        #Also return a value. Alcohol or Liquor: 1, fruit and spice_herb:2, sweeteners: 3, unknown: 4\n",
    "\n",
    "        #Return format will be (category, value)\n",
    "        try:\n",
    "            if math.isnan(categoriesTotalsModified['alcohol']):\n",
    "                return ('unknown', 40)\n",
    "            \n",
    "            #Get the max of the modified scores and return\n",
    "            maxValue = max(categoriesTotalsModified, key=lambda key: categoriesTotalsModified[key])\n",
    "            \n",
    "            if maxValue == 'alcohol' or maxValue == 'liqueur':\n",
    "                value = 10\n",
    "            elif maxValue == 'fruit' or maxValue == 'spices_and_herbs':\n",
    "                value = 20\n",
    "            elif maxValue == 'sweeteners':\n",
    "                value = 30\n",
    "            else:\n",
    "                maxValue = 'unknown'\n",
    "                value = 50\n",
    "                \n",
    "            return (maxValue, value)\n",
    "        except:\n",
    "            return ('unknown', 40)\n",
    "    "
   ]
  },
  {
   "cell_type": "code",
   "execution_count": 11,
   "metadata": {},
   "outputs": [
    {
     "name": "stderr",
     "output_type": "stream",
     "text": [
      "/usr/lib/python3/dist-packages/numpy/lib/function_base.py:392: RuntimeWarning: Mean of empty slice.\n",
      "  avg = a.mean(axis)\n",
      "/usr/lib/python3/dist-packages/numpy/core/_methods.py:85: RuntimeWarning: invalid value encountered in double_scalars\n",
      "  ret = ret.dtype.type(ret / rcount)\n"
     ]
    }
   ],
   "source": [
    "'''End goal is to put each ingredient into a bucket: base-spirit:1, liqueur:2, citrus:3,\n",
    "   fruit:4, spices:6, sweet:5, or dairy:7 \n",
    "\n",
    "The final format: {\"name\": \"Gin\", \"value\": 1, category: \"Base-spirit\"}\n",
    "\n",
    "Each element can be multiple words (a sentence). Each word can be an alcohol, liqueur, citrus, etc.\n",
    " The idea is to average(?) the values from the models and decides on a single catergory\n",
    "'''\n",
    "\n",
    "#OutputFile\n",
    "ingredientsKeyWords = []\n",
    "\n",
    "#Load model\n",
    "model = gensim.models.Word2Vec.load('alcoholAI.model')\n",
    "\n",
    "#Loop through cleanedIngredientsList and catergorize\n",
    "for ingredients in cleanedIngredientsList:\n",
    "\n",
    "    #Init the model\n",
    "    category = categorizeObj(model)\n",
    "    \n",
    "    #Split into list and make lowercase\n",
    "    ingredientsModified = ingredients.split(' ')\n",
    "    ingredientsModified = [x.lower() for x in ingredientsModified]\n",
    "    \n",
    "    #Split by space and get list\n",
    "    category.processList( ingredientsModified )\n",
    "    \n",
    "    #Crunch the numbers\n",
    "    category.categorizeSentence(mathType='average')\n",
    "    \n",
    "    returnVals = category.categorize()\n",
    "    \n",
    "    #print(ingredientsModified, returnVals, '\\n')\n",
    "    \n",
    "    toAdd = {}\n",
    "    toAdd['x'] = str( ingredients )\n",
    "    toAdd['value'] = str( 1 )\n",
    "    toAdd['category'] = str( returnVals[0] )\n",
    "    \n",
    "    ingredientsKeyWords.append(toAdd)"
   ]
  },
  {
   "cell_type": "code",
   "execution_count": 12,
   "metadata": {},
   "outputs": [],
   "source": [
    "#Need to clean out the recipies - Garbage in == Garbage out"
   ]
  },
  {
   "cell_type": "code",
   "execution_count": 13,
   "metadata": {},
   "outputs": [],
   "source": [
    "#Export keywords - Need to remove [] from file\n",
    "with open('keywords.json', 'w') as outfile:\n",
    "    json.dump(ingredientsKeyWords, outfile)"
   ]
  },
  {
   "cell_type": "code",
   "execution_count": 14,
   "metadata": {},
   "outputs": [
    {
     "data": {
      "text/plain": [
       "'\\nEnd goal is to make another netilfy page. No flask\\n\\nNeed to load the username and password from enviromental variables\\nhttps://www.nylas.com/blog/making-use-of-environment-variables-in-python/\\n\\nCreate a python script to export a json object with all recipes.\\nUse code above - export json to file\\n\\nThe rest is all html/javascript/bootstrap\\n - Word cloud where clicking on word will add AND term to search\\n - All words are from the ingredients\\n \\n\\n\\n'"
      ]
     },
     "execution_count": 14,
     "metadata": {},
     "output_type": "execute_result"
    }
   ],
   "source": [
    "'''\n",
    "End goal is to make another netilfy page. No flask\n",
    "\n",
    "Need to load the username and password from enviromental variables\n",
    "https://www.nylas.com/blog/making-use-of-environment-variables-in-python/\n",
    "\n",
    "Create a python script to export a json object with all recipes.\n",
    "Use code above - export json to file\n",
    "\n",
    "The rest is all html/javascript/bootstrap\n",
    " - Word cloud where clicking on word will add AND term to search\n",
    " - All words are from the ingredients\n",
    " \n",
    "\n",
    "\n",
    "'''"
   ]
  }
 ],
 "metadata": {
  "kernelspec": {
   "display_name": "Python 3",
   "language": "python",
   "name": "python3"
  },
  "language_info": {
   "codemirror_mode": {
    "name": "ipython",
    "version": 3
   },
   "file_extension": ".py",
   "mimetype": "text/x-python",
   "name": "python",
   "nbconvert_exporter": "python",
   "pygments_lexer": "ipython3",
   "version": "3.7.3"
  }
 },
 "nbformat": 4,
 "nbformat_minor": 4
}
