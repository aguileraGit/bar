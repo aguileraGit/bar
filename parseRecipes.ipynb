{
 "cells": [
  {
   "cell_type": "code",
   "execution_count": 61,
   "metadata": {},
   "outputs": [],
   "source": [
    "## import json\n",
    "import os\n",
    "import shutil\n",
    "from base64 import b64encode\n",
    "from http.client import HTTPSConnection\n",
    "import yaml\n",
    "import requests\n",
    "import pandas as pd\n",
    "import os\n",
    "import re\n",
    "\n",
    "'''\n",
    "Orginally I wanted to save the user/pass as an enviromental variable. However, since\n",
    "jupyterlab is called as a service, it doesn't load .bashrc therefore, it's not\n",
    "possible to call enviro values while running in juypterlab. However, the end goal\n",
    "is to run this script outside of jupyter to gather recipes and push to github. \n",
    "So getting vars from .bashrc should work. \n",
    "'''\n",
    "\n",
    "#Try to get from enviro var. Need to check if this works when ran outside jupyter\n",
    "email = os.environ.get('PAPRIKAAPPEMAIL')\n",
    "password = os.environ.get('PAPRIKAAPPPASSWORD')\n",
    "\n",
    "#If email or password wasn't found, read bashrc directly and find the vars\n",
    "if email == None or password == None:\n",
    "    print('Brute force - read .bashrc and get user/pass')\n",
    "    f = open(\"/home/pi/.bashrc\", \"r\")\n",
    "    lines = f.readlines()\n",
    "\n",
    "    for line in lines:\n",
    "        matchEmail = re.match( r'(export PAPRIKAAPPEMAIL=)(.*)', line, re.MULTILINE)\n",
    "        if matchEmail:\n",
    "            email = matchEmail.group(2)\n",
    "\n",
    "        matchPassword = re.match( r'(export PAPRIKAAPPPASSWORD=)(.*)', line, re.MULTILINE)\n",
    "        if matchPassword:\n",
    "            password = matchPassword.group(2)\n",
    "\n",
    "\n",
    "c = HTTPSConnection(\"www.paprikaapp.com\")\n",
    "userAndPass = b64encode(bytes(email+\":\"+password, 'utf-8')).decode(\"ascii\")\n",
    "headers = { 'Authorization' : 'Basic %s' %  userAndPass }\n",
    "\n",
    "c.request('GET', '/api/v1/sync/categories/', headers=headers)\n",
    "res = c.getresponse()\n",
    "data = res.read()\n",
    "categories = {}\n",
    "for item in json.loads(data)['result']:\n",
    "    categories[item['uid']] = item['name']\n",
    "\n",
    "c.request('GET', '/api/v1/sync/recipes/', headers=headers)\n",
    "res = c.getresponse()\n",
    "data = res.read()\n",
    "#print(data)\n",
    "\n",
    "df = pd.DataFrame()\n",
    "\n",
    "recipes = []\n",
    "for item in json.loads(data)['result']:\n",
    "    c.request('GET', '/api/v1/sync/recipe/'+item['uid']+'/', headers=headers)\n",
    "    res = c.getresponse()\n",
    "    data = res.read()\n",
    "    recipe = json.loads(data)['result']\n",
    "    \n",
    "    #Check to see if it's in the Drinks catergory\n",
    "    if 'F59B5D0D-9C8A-41FD-8134-F26921D1B19A-18063-0000098A8D94DC39' in recipe['categories']:\n",
    "        #print(recipe)\n",
    "        \n",
    "        df = df.append(recipe, ignore_index=True)\n"
   ]
  },
  {
   "cell_type": "code",
   "execution_count": 62,
   "metadata": {},
   "outputs": [
    {
     "data": {
      "text/plain": [
       "categories           object\n",
       "cook_time            object\n",
       "created              object\n",
       "description          object\n",
       "difficulty           object\n",
       "directions           object\n",
       "hash                 object\n",
       "image_url            object\n",
       "in_trash            float64\n",
       "ingredients          object\n",
       "is_pinned           float64\n",
       "name                 object\n",
       "notes                object\n",
       "nutritional_info     object\n",
       "on_favorites        float64\n",
       "on_grocery_list      object\n",
       "photo                object\n",
       "photo_hash           object\n",
       "photo_large          object\n",
       "photo_url            object\n",
       "prep_time            object\n",
       "rating              float64\n",
       "scale                object\n",
       "servings             object\n",
       "source               object\n",
       "source_url           object\n",
       "total_time           object\n",
       "uid                  object\n",
       "dtype: object"
      ]
     },
     "execution_count": 62,
     "metadata": {},
     "output_type": "execute_result"
    }
   ],
   "source": [
    "df.dtypes"
   ]
  },
  {
   "cell_type": "code",
   "execution_count": 75,
   "metadata": {},
   "outputs": [
    {
     "name": "stderr",
     "output_type": "stream",
     "text": [
      "/home/pi/.local/lib/python3.7/site-packages/pandas/core/strings.py:1954: UserWarning: This pattern has match groups. To actually get the groups, use str.extract.\n",
      "  return func(self, *args, **kwargs)\n"
     ]
    },
    {
     "data": {
      "text/plain": [
       "3     2 ounces gin\\n3/4 ounce sweet vermouth\\n3/4 ou...\n",
       "4     1 1/2 ounces (45ml) bourbon\\n2 ounces (60ml) d...\n",
       "6       2 oz gin\\n1 Oz orgeat\\n.75 lemon juice\\nBitters\n",
       "11    4 oz. Ginger Beer\\n1½ oz. Bourbon\\n½ oz. Black...\n",
       "17    .25 oz freshly squeezed lemon juice\\n3-4 mint ...\n",
       "20    1 1/2 ounces (45ml) Cynar\\n1 1/2 ounces (45ml)...\n",
       "23    2 oz gin\\n1 tablespoons honey\\n2 tablespoons f...\n",
       "24    ice\\n1 ounce gin (Tanqueray or Beefeater recom...\n",
       "25    Small handful of blackberries\\nMint\\n1-1.5 oz ...\n",
       "26    12 blackberries\\n20 fresh mint leaves\\n2 Meyer...\n",
       "28    1.5 oz. NOLET’S Silver Gin\\n1 oz. Fresh Lime J...\n",
       "30    1 lemon\\n3 tablespoons (1 1/2 ounces) gin\\n1 1...\n",
       "31    1.5 oz. NOLET’S Silver Gin\\n1 oz. Lemon Juice\\...\n",
       "32    2 ounces gin\\n1/2 ounce lemon juice\\n1/2 ounce...\n",
       "34    2 ounces London dry gin\\n3/4 ounces triple sec...\n",
       "35    Adapted from Bon Appetit\\nFor 2 tall drinks\\n1...\n",
       "39    3 mint springs\\n1 and ½ ounce gin\\n1/2 ounce s...\n",
       "40    Rosemary Syrup\\n1/2 cup (125ml) water\\n1/2 cup...\n",
       "44    1.5 oz Barr Hill Gin\\n0.5 oz Amaro Montenegro\\...\n",
       "Name: ingredients, dtype: object"
      ]
     },
     "execution_count": 75,
     "metadata": {},
     "output_type": "execute_result"
    }
   ],
   "source": [
    "import re\n",
    "df[ (df['ingredients'].str.contains(r'(gin)', flags=re.IGNORECASE)) & (df['ingredients'].str.contains(r'(lemon|lime)', flags=re.IGNORECASE))  ]['ingredients']"
   ]
  },
  {
   "cell_type": "code",
   "execution_count": 67,
   "metadata": {},
   "outputs": [],
   "source": [
    "#Export all recipes\n",
    "jsonRecipeExport = df.to_json(orient=\"index\")\n",
    "\n",
    "with open('recipes.json', 'w') as outfile:\n",
    "    outfile.write(jsonRecipeExport)"
   ]
  },
  {
   "cell_type": "code",
   "execution_count": 64,
   "metadata": {},
   "outputs": [],
   "source": [
    "#By default, ingredients are seperated by \\n. Replace with space\n",
    "#df['ingredients'] = df['ingredients'].str.replace('\\n', '-')\n",
    "\n",
    "#Need to clean up ingredients\n",
    "listOfIngredients = df['ingredients'].tolist()"
   ]
  },
  {
   "cell_type": "code",
   "execution_count": 66,
   "metadata": {},
   "outputs": [
    {
     "name": "stdout",
     "output_type": "stream",
     "text": [
      "['bourbon    rye whiskey', 'Cointreau   orange liqueur', 'sweet vermouth', 'lemon juice', 'Brandied cherries  lemon peel    white rum', 'maraschino liqueur', 'grapefruit juice', 'lime juice', 'simple syrup', 'lime wedge oz Belle Meade bourbon', 'oz grapefruit juice', 'oz lemon juice', 'oz Campari', 'oz simple syrup  gin', 'sweet vermouth', 'dry vermouth', 'orange juice   orange juice   lemon juice', 'orange bitters    bourbon', 'dry hard cider', 'ginger beer', 'Angostura bitters', 'Large lemon wedge   Rittenhouse Rye Whiskey', 'Fresh lemon juice', 'oz Simple syrup', 'Huckleberry Shrub', 'Egg white', 'Coupe', 'Lemon zest  huckleberry shrub spray', 'Huckleberries', 'Cider vinegar', 'Sugar gin', 'orgeat', 'lemon juice', 'Bitters  blanco tequila', 'Kahlua Coffee Liqueur', 'fresh grapefruit juice', 'fresh lime juice', 'teaspoon Cholula   hot sauce', 'grapefruit wheels sliced in half', 'Flaky salt  Siete Misterios DobaYej Mezcal', 'mL  Campari', 'mL  Lemon Juice', 'mL  Orange Juice', 'mL  Espresso', 'Barspoons Dulce de Leche', 'Pinch of salt  cinnamon  lemon juice', 'pineapple juice', 'vodka', 'grenadine oz Ginger Beer', 'oz Bourbon', 'oz Blackberry Cordial', 'oz Lime Juice', 'Angostura Bitters  Old Tom gin', 'cherry liqueur', 'teaspoon honey syrup  limes', 'cup  caster sugar', 'cup  pisco', 'cubes', 'Angostura bitters  finish uncooked longgrain white rice', 'honey  real maple syrup', 'teaspoons vanilla extract', 'teaspoon ground nutmeg', 'teaspoons ground cinnamon plus more  serving', 'canned coconut milk  whole milk', 'cold coffee  espresso', 'dark rum  Kahlúa', 'cinnamon sugar  rimming  Pisco', 'Aperol', 'Fresh Lemon Juice', 'Simple Syrup', 'Egg White', 'Fresh Mint Leaves    Dark rum', 'Campari', 'Demerara syrup', 'Fresh pineapple juice', 'Fresh lime juice', 'Pineapple wedge   lemon juice', 'mint leaves', 'Pisco', 'blackberries', 'St Germain Elderflower Liqueur', 'ginger beer pint Grant’s Scotch', 'Large Marshmallows', 'oz Nutella', 'oz Marshmallow  NutellaInfused Scotch', 'Snap Cordial liquer', 'Blackstrap Rum', 'Xocolatl Mole BittersKosher salt', 'grapefruit wedge', 'fresh grapefruit juice', 'fresh lime juice', 'teaspoon sugar', 'mescal  tequila', 'club soda    Cynar', 'Montenegro', 'ounce  fresh juice   limes', 'ginger beer  taste', 'Lime wheel  two    the Chai', 'half  half', 'water', 'cinnamon stick broken in half', 'black cardamom pods crushed with a mortar  pestle', 'pink peppercorns crushed with a mortar  pestle', 'inch piece of fresh ginger peeled  flattened with the flat side of a large knife', 'Turbinado sugar', 'sachets of organic whole leaf black tea preferably Assam  rye   whiskey', 'dry vermouth', 'maraschino liqueur', 'Amer Picon Ramazzotti  a few  Angostura  orange bitters gin', 'honey', 'fresh lime juiceice', 'gin', 'fresh lime juice', 'Cherry Heering  Bols Cherry Brandy', 'Benedictine', 'chilled club soda', 'Angostura bitters', 'pineapple spear cherry / orange slice  garnishSmall handful of blackberries', 'Mint', 'vodka', 'fresh lime juice', 'Ginger beer blackberries', 'fresh mint leaves', 'Meyer lemons can sub regular lemons', 'simple syrup', 'high quality gin', 'tonic water', 'Casamigos Reposado Tequila', 'fresh lemon juice', 'fresh pink grapefruit juice', 'agave nectar', 'maraschino liqueur oz NOLET’S Silver Gin', 'oz Fresh Lime Juice', 'oz Raspberry Syrup', 'Ginger Beer  top', 'Fresh Raspberries     rye whiskey', 'lemon juice', 'blackberry jam', 'pinch salt lemon', 'gin', 'fresh lemon juice', 'tablespoon  simple syrup', 'cubes', 'cup  dry sparkling wine such as brut Champagne chilled oz NOLET’S Silver Gin', 'oz Lemon Juice', 'Tbsp Fruit Jam  Fruit Preserves', 'Citrus Zest   gin', 'lemon juice', 'lime juice', 'simple syrup', 'drops orange flower water', 'cream', 'egg white', 'club soda   milk', 'sugar', 'cinnamon sticks', 'whole cloves', 'strong brewed coffee', 'pisco aguardiente grappa  brandy', 'teaspoons vanilla extract  London dry gin', 'triple sec preferably Pierre Ferrand Curaçao  Cointreau', 'lime juice', 'teaspoon simple syrup', 'aromatic bitters', 'orange bittersAdapted  Bon Appetit', 'tall drinks', 'fresh blackberries', 'sugar', 'cup  gin', 'fresh lime juice', 'Club soda', 'sprigs sweet basil   thin lime wedges    gin', 'sweet vermouth', 'Fernet Branca', 'orange bitters', 'orange twist bourbon', 'T maple syrup', 'chocolate bitters', 'orange bittersThe Bitter Bird', 'Bulleit Bourbon', 'Campari', \"The Owl's Brew CocoLada\", 'Luxardo Maraschino Liqueur', 'Angosturra bitters', 'Absinthe mint springs', 'gin', 'simple syrup', 'fresh lime juice', 'club sodaRosemary Syrup', 'cup  water', 'cup  sugar', 'coarsely chopped fresh rosemary leaves', 'Rosemary Gimlet', 'gin', 'fresh lime juice', 'rosemary syrup', 'fresh grapefruit juice', 'fresh lime juice', 'teaspoon Cholula   hot sauce', 'grapefruit wheels sliced in half', 'Flaky salt  pomegranate juice', 'ounce  ruby port', 'orange bitters', 'sparkling wine', 'One \\u200binch round lemon peel', 'ounce', 'ounce  triple sec such as Combier  Cointreau', 'Cinnamon stick  orange twist   Barr Hill Gin', 'Amaro Montenegro', 'Fresh Lemon Juice', 'Raw Honey Syrup', 'Egg White thin slices  small wedges grapefruit', 'Kosher salt  rim if desired', 'grapefruit juice', 'pomegranate juice', 'teaspoon honey sugar  agave', 'white tequila', 'About  mediumsized  cubes', 'club soda  seltzer', 'A few pomegranate arils']\n"
     ]
    }
   ],
   "source": [
    "#'Flatten list to string'\n",
    "ingredientList = ''\n",
    "ingredientList = ingredientList.join(listOfIngredients)\n",
    "\n",
    "#I believe the last item per recipe doesn't have a \\n, so \n",
    "# it ends up with WordAWordB. Need to fix\n",
    "ingredientList = ingredientList.split('\\n')\n",
    "\n",
    "cleanedIngredientsList = []\n",
    "\n",
    "for _line in ingredientList:\n",
    "    #print(_line)\n",
    "    \n",
    "    #Clean out measurements\n",
    "    regexMeasurements = re.compile(r'\\bounce.\\b|\\boz.\\b|\\bm[l|L]\\b|\\bcup.\\b|\\btablespoon.\\b|\\bpart.\\b', re.IGNORECASE)\n",
    "    _line = re.sub(regexMeasurements, '', _line)\n",
    "    \n",
    "    #Clean out numbers\n",
    "    regexNumbers = re.compile(r'(\\d/\\d)|(\\d)|(\\.\\d*)|(¾)|(½)|(¼)', re.IGNORECASE)\n",
    "    _line = re.sub(regexNumbers, '', _line)\n",
    "    \n",
    "    #Single words or characters - Ignore case\n",
    "    regexSingleWords = re.compile(r'\\bfreshly\\b|\\bgarnish\\b|\\bdash\\b|\\bdashes\\b|\\bsqueeze\\b|\\bsqueezed\\b|\\bglass\\b|\\band\\b|\\bor\\b|\\bice\\b|', re.IGNORECASE)\n",
    "    _line = re.sub(regexSingleWords, '', _line)\n",
    "    \n",
    "    #More words\n",
    "    regexMoreWords = re.compile(r'\\bcube\\b|\\byour\\b|\\bfavorite\\b|\\bother\\b|\\bgood-quality\\b|\\boptional\\b|\\bto\\b|\\bfrom\\b|\\bfor\\b', re.IGNORECASE)\n",
    "    _line = re.sub(regexMoreWords, '', _line)\n",
    "    \n",
    "    #Anything in quotes\n",
    "    regexQuotes = re.compile(r'\\(.*\\)', re.IGNORECASE)\n",
    "    _line = re.sub(regexQuotes, '', _line)\n",
    "\n",
    "    #Remove special characters\n",
    "    regexSpecialChars = re.compile(r'\\:|,|\\*|-|\\(|\\)|&|\\*|\\%', re.IGNORECASE)\n",
    "    _line = re.sub(regexSpecialChars, '', _line)\n",
    "    \n",
    "    #Remove \\r \\n\n",
    "    _line = _line.strip()\n",
    "    \n",
    "    #Remove lines that are too short or empty\n",
    "    if len(_line) < 2:\n",
    "        pass\n",
    "    else:\n",
    "        #print(_line)\n",
    "        cleanedIngredientsList.append(_line)\n",
    "        pass\n",
    "\n",
    "print(cleanedIngredientsList)\n"
   ]
  },
  {
   "cell_type": "code",
   "execution_count": 69,
   "metadata": {},
   "outputs": [],
   "source": [
    "#Export keywords - Need to remove [] from file\n",
    "with open('keywords.json', 'w') as outfile:\n",
    "    json.dump(cleanedIngredientsList, outfile)"
   ]
  },
  {
   "cell_type": "code",
   "execution_count": null,
   "metadata": {},
   "outputs": [],
   "source": [
    "'''\n",
    "End goal is to make another netilfy page. No flask\n",
    "\n",
    "Need to load the username and password from enviromental variables\n",
    "https://www.nylas.com/blog/making-use-of-environment-variables-in-python/\n",
    "\n",
    "Create a python script to export a json object with all recipes.\n",
    "Use code above - export json to file\n",
    "\n",
    "The rest is all html/javascript/bootstrap\n",
    " - Word cloud where clicking on word will add AND term to search\n",
    " - All words are from the ingredients\n",
    " \n",
    "\n",
    "\n",
    "'''"
   ]
  }
 ],
 "metadata": {
  "kernelspec": {
   "display_name": "Python 3",
   "language": "python",
   "name": "python3"
  },
  "language_info": {
   "codemirror_mode": {
    "name": "ipython",
    "version": 3
   },
   "file_extension": ".py",
   "mimetype": "text/x-python",
   "name": "python",
   "nbconvert_exporter": "python",
   "pygments_lexer": "ipython3",
   "version": "3.7.3"
  }
 },
 "nbformat": 4,
 "nbformat_minor": 4
}
